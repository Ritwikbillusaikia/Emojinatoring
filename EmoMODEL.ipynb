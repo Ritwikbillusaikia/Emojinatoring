{
 "cells": [
  {
   "cell_type": "code",
   "execution_count": 3,
   "metadata": {},
   "outputs": [],
   "source": [
    "import keras\n",
    "import numpy as np\n",
    "from keras import layers\n",
    "import pandas as pd\n",
    "from keras.layers import Input, Dense, Activation, ZeroPadding2D, BatchNormalization,Flatten,Conv2D\n",
    "from keras.layers import AveragePooling2D,MaxPooling2D,Dropout, GlobalMaxPooling2D,GlobalAveragePooling2D\n",
    "from keras.utils import np_utils, print_summary\n",
    "from keras.models import Sequential\n",
    "from keras.callbacks import ModelCheckpoint\n",
    "import keras.backend as k\n"
   ]
  },
  {
   "cell_type": "code",
   "execution_count": 4,
   "metadata": {},
   "outputs": [
    {
     "name": "stdout",
     "output_type": "stream",
     "text": [
      "12000\n",
      "1199\n",
      "x train shape:(12000, 50, 50, 1)\n",
      "x test shape:(1199, 50, 50, 1)\n",
      "(12000, 12)\n"
     ]
    }
   ],
   "source": [
    "\n",
    "\n",
    "data=pd.read_csv(r'C:\\Users\\Rittik Grignard\\Downloads\\train_foo.csv')\n",
    "dataset=np.array(data)\n",
    "np.random.shuffle(dataset)\n",
    "x=dataset\n",
    "y=dataset\n",
    "x=x[:,0:2500]\n",
    "y=y[:,0]\n",
    "x_train=x[0:12000,:]\n",
    "x_train=x_train/255.\n",
    "x_test=x[12000:13201,:]\n",
    "x_test=x_test/255.\n",
    "x_train=np.asarray(x_train)\n",
    "x_test=np.asarray(x_test)\n",
    "y=y.reshape(y.shape[0],1)\n",
    "y_train=y[0:12000,:]\n",
    "y_train=y_train.T\n",
    "y_test=y[12000:13201,:]\n",
    "y_test=y_test.T\n",
    "\n",
    "print(x_train.shape[0])\n",
    "\n",
    "print(x_test.shape[0])\n",
    "image_x=50\n",
    "image_y=50\n",
    "\n",
    "train_y=np_utils.to_categorical(y_train)\n",
    "test_y=np_utils.to_categorical(y_test)\n",
    "train_y=np.asarray(train_y)\n",
    "test_y=np.asarray(test_y)\n",
    "\n",
    "train_y=train_y.reshape(train_y.shape[1],train_y.shape[2])\n",
    "test_y=test_y.reshape(test_y.shape[1],test_y.shape[2])\n",
    "x_train=x_train.reshape(x_train.shape[0],50,50,1)\n",
    "x_test=x_test.reshape(x_test.shape[0],50,50,1)\n",
    "print(\"x train shape:\"+str(x_train.shape))\n",
    "print(\"x test shape:\"+str(x_test.shape))\n",
    "print(train_y.shape)"
   ]
  },
  {
   "cell_type": "code",
   "execution_count": 5,
   "metadata": {},
   "outputs": [],
   "source": [
    "#Building the model\n",
    "def keras_model(image_x,image_y):\n",
    "    num_of_classes=12\n",
    "    model=Sequential()\n",
    "    model.add(Conv2D(filters=32,kernel_size=(5,5),input_shape=(image_x,image_y,1),activation='relu'))\n",
    "    model.add(MaxPooling2D(pool_size=(2,2),strides=(2,2),padding='same'))\n",
    "    model.add(Conv2D(64,(5,5),activation='relu'))\n",
    "    model.add(MaxPooling2D(pool_size=(5,5),strides=(5,5),padding='same'))\n",
    "    model.add(Flatten())\n",
    "    model.add(Dense(1024,activation='relu'))\n",
    "    model.add(Dropout(0,6))\n",
    "    model.add(Dense(num_of_classes,activation='softmax'))\n",
    "    \n",
    "    model.compile(loss='categorical_crossentropy',optimizer='adam',metrics=['accuracy'])\n",
    "    filepath=\"face-rec_256.h5\"\n",
    "    checkpoint1=ModelCheckpoint(filepath,monitor='val_acc',verbose=1, save_best_only=True,mode='max')\n",
    "    callbacks_list=[checkpoint1]\n",
    "    return model,callbacks_list\n"
   ]
  },
  {
   "cell_type": "code",
   "execution_count": 6,
   "metadata": {},
   "outputs": [
    {
     "name": "stdout",
     "output_type": "stream",
     "text": [
      "WARNING:tensorflow:From C:\\Users\\Rittik Grignard\\Anaconda\\envs\\deeplearning\\lib\\site-packages\\keras\\backend\\tensorflow_backend.py:4070: The name tf.nn.max_pool is deprecated. Please use tf.nn.max_pool2d instead.\n",
      "\n",
      "WARNING:tensorflow:From C:\\Users\\Rittik Grignard\\Anaconda\\envs\\deeplearning\\lib\\site-packages\\keras\\backend\\tensorflow_backend.py:422: The name tf.global_variables is deprecated. Please use tf.compat.v1.global_variables instead.\n",
      "\n",
      "Train on 12000 samples, validate on 1199 samples\n",
      "Epoch 1/1\n",
      "12000/12000 [==============================] - 68s 6ms/step - loss: 0.1142 - accuracy: 0.9659 - val_loss: 4.8069e-04 - val_accuracy: 1.0000\n"
     ]
    },
    {
     "name": "stderr",
     "output_type": "stream",
     "text": [
      "C:\\Users\\Rittik Grignard\\Anaconda\\envs\\deeplearning\\lib\\site-packages\\keras\\callbacks\\callbacks.py:707: RuntimeWarning: Can save best model only with val_acc available, skipping.\n",
      "  'skipping.' % (self.monitor), RuntimeWarning)\n"
     ]
    },
    {
     "name": "stdout",
     "output_type": "stream",
     "text": [
      "CNN:Error0.00%\n",
      "Model: \"sequential_1\"\n",
      "_________________________________________________________________\n",
      "Layer (type)                 Output Shape              Param #   \n",
      "=================================================================\n",
      "conv2d_1 (Conv2D)            (None, 46, 46, 32)        832       \n",
      "_________________________________________________________________\n",
      "max_pooling2d_1 (MaxPooling2 (None, 23, 23, 32)        0         \n",
      "_________________________________________________________________\n",
      "conv2d_2 (Conv2D)            (None, 19, 19, 64)        51264     \n",
      "_________________________________________________________________\n",
      "max_pooling2d_2 (MaxPooling2 (None, 4, 4, 64)          0         \n",
      "_________________________________________________________________\n",
      "flatten_1 (Flatten)          (None, 1024)              0         \n",
      "_________________________________________________________________\n",
      "dense_1 (Dense)              (None, 1024)              1049600   \n",
      "_________________________________________________________________\n",
      "dropout_1 (Dropout)          (None, 1024)              0         \n",
      "_________________________________________________________________\n",
      "dense_2 (Dense)              (None, 12)                12300     \n",
      "=================================================================\n",
      "Total params: 1,113,996\n",
      "Trainable params: 1,113,996\n",
      "Non-trainable params: 0\n",
      "_________________________________________________________________\n"
     ]
    }
   ],
   "source": [
    "model,callbacks_list=keras_model(image_x,image_y)\n",
    "model.fit(x_train,train_y,validation_data=(x_test,test_y),epochs=1,batch_size=64,callbacks=callbacks_list)\n",
    "scores=model.evaluate(x_test,test_y,verbose=0)\n",
    "print(\"CNN:Error%.2f%%\"%(100-scores[1]*100))\n",
    "print_summary(model)\n",
    "model.save('handemo.h5')"
   ]
  },
  {
   "cell_type": "code",
   "execution_count": null,
   "metadata": {},
   "outputs": [],
   "source": []
  }
 ],
 "metadata": {
  "kernelspec": {
   "display_name": "Python 3",
   "language": "python",
   "name": "python3"
  },
  "language_info": {
   "codemirror_mode": {
    "name": "ipython",
    "version": 3
   },
   "file_extension": ".py",
   "mimetype": "text/x-python",
   "name": "python",
   "nbconvert_exporter": "python",
   "pygments_lexer": "ipython3",
   "version": "3.7.1"
  }
 },
 "nbformat": 4,
 "nbformat_minor": 4
}
